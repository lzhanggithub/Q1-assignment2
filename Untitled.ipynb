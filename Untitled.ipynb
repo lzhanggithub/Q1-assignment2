{
 "cells": [
  {
   "cell_type": "code",
   "execution_count": 1,
   "id": "f815112e",
   "metadata": {},
   "outputs": [],
   "source": [
    "\n",
    "# Required Libraries\n",
    "import copy\n",
    "import matplotlib.patches as mpatches\n",
    "import matplotlib.pyplot as plt\n",
    "import numpy  as np\n",
    "\n",
    "from sklearn.decomposition import TruncatedSVD"
   ]
  },
  {
   "cell_type": "code",
   "execution_count": null,
   "id": "2eed0a00",
   "metadata": {},
   "outputs": [],
   "source": [
    "# ELECTRE Tri-B\n",
    "\n",
    "# Parameters \n",
    "Q = [ 5,  5,  5,  5,  5]\n",
    "P = [10, 10, 10, 10, 10]\n",
    "V = [30, 30, 30, 30, 30]\n",
    "W = [ 1,  1,  1,  1,  1]\n",
    "B = [[50, 48, 55, 55, 60], [70, 75, 80, 75, 85]]\n",
    "\n",
    "# Dataset\n",
    "dataset = np.array([\n",
    "                [75, 67, 85, 82, 90],   #a1\n",
    "                [28, 35, 70, 90, 95],   #a2\n",
    "                [45, 60, 55, 68, 60]    #a3\n",
    "                ])"
   ]
  },
  {
   "cell_type": "code",
   "execution_count": null,
   "id": "caf03f58",
   "metadata": {},
   "outputs": [],
   "source": [
    "\n",
    "# Function: Concordance Matrices and Vectors\n",
    "def concordance_matrices_vectors(performance_matrix, number_of_profiles, number_of_alternatives, B, P, Q, W):         \n",
    "    n_rows = number_of_profiles * number_of_alternatives\n",
    "    n_cols = performance_matrix.shape[1]\n",
    "    # Concordance Matrix x_b\n",
    "    concordance_matrix = np.zeros((n_rows, n_cols))\n",
    "    count = B.shape[0] - 1\n",
    "    alternative = -number_of_alternatives       \n",
    "    for i in range(0, concordance_matrix .shape[0]):\n",
    "        if (i > 0 and i % number_of_alternatives == 0):\n",
    "                count = count - 1\n",
    "        if (i > 0 and i % number_of_alternatives != 0):\n",
    "            alternative = alternative + 1\n",
    "        elif (i > 0 and i % number_of_alternatives == 0):\n",
    "            alternative = -number_of_alternatives \n",
    "        for j in range(0, concordance_matrix.shape[1]):\n",
    "            if (B[count, j] - performance_matrix[alternative, j] >= P[0, j]):\n",
    "                concordance_matrix[i, j] = 0\n",
    "            elif (B[count, j] - performance_matrix[alternative, j] < Q[0, j]):\n",
    "                concordance_matrix[i, j] = 1\n",
    "            else:\n",
    "                concordance_matrix[i, j] = (P[0, j] - B[count, j] + performance_matrix[alternative, j])/(P[0, j] - Q[0, j])     \n",
    "    # Concordance Vector x_b\n",
    "    concordance_vector = np.zeros((n_rows, 1))\n",
    "    for i in range(0, concordance_vector.shape[0]):\n",
    "        for j in range(0, concordance_matrix.shape[1]):\n",
    "            concordance_vector[i, 0] = concordance_vector[i, 0] + concordance_matrix[i, j]*W[j]\n",
    "        if (W.sum(axis = 0) != 0):\n",
    "            concordance_vector[i, 0] = concordance_vector[i, 0]/W.sum(axis = 0)           \n",
    "    # Concordance Matrix b_x\n",
    "    concordance_matrix_inv = np.zeros((n_rows, n_cols))\n",
    "    count = B.shape[0] - 1\n",
    "    alternative = -number_of_alternatives       \n",
    "    for i in range(0, concordance_matrix_inv.shape[0]):\n",
    "        if (i > 0 and i % number_of_alternatives == 0):\n",
    "                count = count - 1\n",
    "        if (i > 0 and i % number_of_alternatives != 0):\n",
    "            alternative = alternative + 1\n",
    "        elif (i > 0 and i % number_of_alternatives == 0):\n",
    "            alternative = -number_of_alternatives \n",
    "        for j in range(0, concordance_matrix_inv.shape[1]):\n",
    "            if (-B[count, j] + performance_matrix[alternative, j] >= P[0, j]):\n",
    "                concordance_matrix_inv[i, j] = 0\n",
    "            elif (-B[count, j] + performance_matrix[alternative, j] < Q[0, j]):\n",
    "                concordance_matrix_inv[i, j] = 1\n",
    "            else:\n",
    "                concordance_matrix_inv[i, j] = (P[0, j] + B[count, j] - performance_matrix[alternative, j])/(P[0, j] - Q[0, j])        \n",
    "    # Concordance Vector b_x\n",
    "    concordance_vector_inv = np.zeros((n_rows, 1))\n",
    "    for i in range(0, concordance_vector_inv.shape[0]):\n",
    "        for j in range(0, concordance_matrix_inv.shape[1]):\n",
    "            concordance_vector_inv[i, 0] = concordance_vector_inv[i, 0] + concordance_matrix_inv[i, j]*W[j]\n",
    "        if (W.sum(axis = 0) != 0):\n",
    "            concordance_vector_inv[i, 0] = concordance_vector_inv[i, 0]/W.sum(axis = 0)    \n",
    "    return concordance_matrix, concordance_matrix_inv, concordance_vector, concordance_vector_inv\n"
   ]
  },
  {
   "cell_type": "code",
   "execution_count": null,
   "id": "722d3200",
   "metadata": {},
   "outputs": [],
   "source": [
    "concordance_matrix, concordance_matrix_inv, concordance_vector, concordance_vector_inv \n",
    "= concordance_matrices_vectors(performance_matrix = performance_matrix, number_of_profiles = number_of_profiles, number_of_alternatives = number_of_alternatives, B = b_matrix, P = p_vector, Q = q_vector, W = w_vector)    \n"
   ]
  }
 ],
 "metadata": {
  "kernelspec": {
   "display_name": "Python 3 (ipykernel)",
   "language": "python",
   "name": "python3"
  },
  "language_info": {
   "codemirror_mode": {
    "name": "ipython",
    "version": 3
   },
   "file_extension": ".py",
   "mimetype": "text/x-python",
   "name": "python",
   "nbconvert_exporter": "python",
   "pygments_lexer": "ipython3",
   "version": "3.9.7"
  }
 },
 "nbformat": 4,
 "nbformat_minor": 5
}
