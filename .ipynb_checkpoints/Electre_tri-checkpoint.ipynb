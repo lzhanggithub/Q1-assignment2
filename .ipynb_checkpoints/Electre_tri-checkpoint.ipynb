{
 "cells": [
  {
   "cell_type": "markdown",
   "metadata": {
    "colab_type": "text",
    "id": "view-in-github"
   },
   "source": [
    "<a href=\"https://colab.research.google.com/github/Tikquuss/electre_tri/blob/main/Electre_tri.ipynb\" target=\"_parent\"><img src=\"https://colab.research.google.com/assets/colab-badge.svg\" alt=\"Open In Colab\"/></a>"
   ]
  },
  {
   "cell_type": "markdown",
   "metadata": {
    "id": "G5XewYkIZk1g"
   },
   "source": []
  },
  {
   "cell_type": "markdown",
   "metadata": {
    "id": "iSVHupLA9M06"
   },
   "source": [
    "# **Useful functions**"
   ]
  },
  {
   "cell_type": "markdown",
   "metadata": {
    "id": "YBud6hVl6vmx"
   },
   "source": [
    "**Necessary imports**"
   ]
  },
  {
   "cell_type": "code",
   "execution_count": 83,
   "metadata": {
    "id": "NdcZLppMZpb5"
   },
   "outputs": [],
   "source": [
    "import itertools\n",
    "import os\n",
    "import pandas as pd"
   ]
  },
  {
   "cell_type": "markdown",
   "metadata": {
    "id": "a2GulBKI-k0y"
   },
   "source": [
    "## Step 1: Determination of partial concordance indices"
   ]
  },
  {
   "cell_type": "markdown",
   "metadata": {
    "id": "nMmd_AwS9j6V"
   },
   "source": [
    "### **Calculation of $c_j(a, b_i)$ and $c_j(b_i, a)$**"
   ]
  },
  {
   "cell_type": "markdown",
   "metadata": {
    "id": "0zAqNSQaBY9-"
   },
   "source": [
    "For each criterion $j$, the partial match index between the alternative $a$ and the bi profile is given by :\n",
    "* If the function $g_j$ is to be maximized:\n",
    "\n",
    "$\n",
    "c_j(a, b_i) = \\left\\{\n",
    "    \\begin{array}{ll}\n",
    "        1 & \\mbox{if } g_j(a) \\geq  g_j(b_i) \\\\\n",
    "        0 & \\mbox{or.}\n",
    "    \\end{array}\n",
    "\\right. \n",
    "$ and $\n",
    "c_j(b_i, a) = \\left\\{\n",
    "    \\begin{array}{ll}\n",
    "        1 & \\mbox{if } g_j(b_i) \\geq  g_j(a) \\\\\n",
    "        0 & \\mbox{or.}\n",
    "    \\end{array}\n",
    "\\right.\n",
    "$\n",
    "<!-- * If the function $g_j$ is to be minimized :\n",
    "\n",
    "$\n",
    "c_j(a, b_i) = \\left\\{\n",
    "    \\begin{array}{ll}\n",
    "        1 & \\mbox{if } g_j(b_i) \\geq  g_j(a) \\\\\n",
    "        0 & \\mbox{or.}\n",
    "    \\end{array}\n",
    "\\right. \n",
    "$ and $\n",
    "c_j(b_i, a) = \\left\\{\n",
    "    \\begin{array}{ll}\n",
    "        1 & \\mbox{if } g_j(a) \\geq  g_j(b_i) \\\\\n",
    "        0 & \\mbox{or.}\n",
    "    \\end{array}\n",
    "\\right.\n",
    "$ -->\n",
    "\n",
    "with $g_j(H)$ and $g_j(b_i)$ representing respectively the score of $H$ and $b_i$ on the criterion $j$. In our case, this score represents the qualitative evaluation attributed to $H$ and $b_i$. Therefore, the comparison $g_j(H) \\geq g_j(b_i)$ simply means that the\n",
    "qualitative value of $H$ is at least as good as that of $b_i$."
   ]
  },
  {
   "cell_type": "code",
   "execution_count": 84,
   "metadata": {
    "id": "WPyMgMWiBFBy"
   },
   "outputs": [],
   "source": [
    "def get_c_j(H : list, b_i : list, j : int) :\n",
    "    \"\"\"returns cj(H,b_i) and cj(b_i,H) according to the above formula, all belonging to {0, 1}\n",
    "    Parameters :\n",
    "      - H (list or array) : food (array of size equal to the number of criteria, example [1, 10, 100, 2.1, 0] for 5 criteria)\n",
    "      - b_i (list or array) : profile (same comment as for H, example : [2, 1, 1, 100, 1, 1] )\n",
    "      - j (int) : criterion index (between 0 and the number of criteria)\n",
    "\n",
    "  \"\"\"\n",
    "#     assert type_critere in [\"max\", \"min\"]\n",
    "#     if type_critere == \"max\" :\n",
    "    c_j_H_b_i = 1 if H[j] >= b_i[j] else 0\n",
    "    c_j_b_i_H = 1 if b_i[j] >= H[j] else 0\n",
    "#     if type_critere == \"min\" :\n",
    "#         c_j_H_b_i = 1 if b_i[j] >= H[j] else 0\n",
    "#         c_j_b_i_H = 1 if H[j] >= b_i[j] else 0\n",
    "  \n",
    "    return c_j_H_b_i, c_j_b_i_H"
   ]
  },
  {
   "cell_type": "code",
   "execution_count": 85,
   "metadata": {},
   "outputs": [
    {
     "data": {
      "text/plain": [
       "1"
      ]
     },
     "execution_count": 85,
     "metadata": {},
     "output_type": "execute_result"
    }
   ],
   "source": [
    "### testing\n",
    "c_j_H_b_i, c_j_b_i_H = get_c_j([1,2,3,4],[2,2,2,2],3)\n",
    "\n",
    "c_j_H_b_i"
   ]
  },
  {
   "cell_type": "code",
   "execution_count": 86,
   "metadata": {},
   "outputs": [
    {
     "data": {
      "text/plain": [
       "0"
      ]
     },
     "execution_count": 86,
     "metadata": {},
     "output_type": "execute_result"
    }
   ],
   "source": [
    "c_j_b_i_H"
   ]
  },
  {
   "cell_type": "markdown",
   "metadata": {
    "id": "1AG0rrIdBR-F"
   },
   "source": [
    "**Function for calculating partial concordance indices**."
   ]
  },
  {
   "cell_type": "code",
   "execution_count": 87,
   "metadata": {
    "id": "N5ptF-qdH-tN"
   },
   "outputs": [],
   "source": [
    "def get_indices_de_concordance_partiels( aliments : dict, profils : dict) :\n",
    "    \"\"\"Returns a dictionary containing for each alternative a and each criterion b_i\n",
    "     the partial concordance indices c(a, bi) and c(bi, a), all real (float)\n",
    "\n",
    "     Parameters :\n",
    "        - food (dict) : dictionary containing the food (the key corresponds to the name of the food, and the value to the \n",
    "                            qualitative evaluation attributed to the food for each criteria)\n",
    "              Example : food = {\"food1\" : [1, 2, 3, 1, 0.1, 10], 'food2': [2, 0, 1, 5, 1, 10]}\n",
    "        - profiles (dict) : dictionary containing the profiles (the key corresponds to the name of the profile, and the value to the \n",
    "                            qualitative evaluation attributed to the profile for each criteria)\n",
    "              Example : profiles = {\"b6\" : [100, 0, 0, 0, 100, 100], \"b5\" : [1550, 11, 0.8, 0.3, 10, 11], \n",
    "                                  \"b4\": [1650, 14, 1, 0.4, 7, 8], \"b3\": [1750, 17, 1.7, 0.5, 4, 5], \n",
    "                                  \"b2\" : [1850, 20, 4, 0.6, 3, 2.5], \"b1\" : [10000, 100, 100, 100, 0, 0]}\"\"\"\n",
    "    criteria = 4\n",
    "    c = {}\n",
    "    for j in range(criteria) : # there are j criteria\n",
    "        c[j] = {} # initial each criteria as a dictionary\n",
    "        for H, b_i in itertools.product(*[aliments.keys(), profils.keys()]) :\n",
    "            c[j][H] = c[j].get(H, {})\n",
    "            c[j][b_i] = c[j].get(b_i, {})\n",
    "            c[j][H][b_i], c[j][b_i][H] = get_c_j(H = aliments[H], b_i = profils[b_i], j = j)\n",
    "    return c"
   ]
  },
  {
   "cell_type": "code",
   "execution_count": 88,
   "metadata": {},
   "outputs": [
    {
     "data": {
      "text/plain": [
       "{0: {'aliment_1': {'b4': 0, 'b3': 0, 'b2': 0, 'b1': 0},\n",
       "  'b4': {'aliment_1': 1, 'aliment_2': 0},\n",
       "  'b3': {'aliment_1': 1, 'aliment_2': 0},\n",
       "  'b2': {'aliment_1': 1, 'aliment_2': 1},\n",
       "  'b1': {'aliment_1': 1, 'aliment_2': 1},\n",
       "  'aliment_2': {'b4': 1, 'b3': 1, 'b2': 0, 'b1': 0}},\n",
       " 1: {'aliment_1': {'b4': 1, 'b3': 0, 'b2': 0, 'b1': 0},\n",
       "  'b4': {'aliment_1': 1, 'aliment_2': 0},\n",
       "  'b3': {'aliment_1': 1, 'aliment_2': 0},\n",
       "  'b2': {'aliment_1': 1, 'aliment_2': 1},\n",
       "  'b1': {'aliment_1': 1, 'aliment_2': 1},\n",
       "  'aliment_2': {'b4': 1, 'b3': 1, 'b2': 0, 'b1': 0}},\n",
       " 2: {'aliment_1': {'b4': 1, 'b3': 0, 'b2': 0, 'b1': 0},\n",
       "  'b4': {'aliment_1': 1, 'aliment_2': 0},\n",
       "  'b3': {'aliment_1': 1, 'aliment_2': 0},\n",
       "  'b2': {'aliment_1': 1, 'aliment_2': 1},\n",
       "  'b1': {'aliment_1': 1, 'aliment_2': 1},\n",
       "  'aliment_2': {'b4': 1, 'b3': 1, 'b2': 1, 'b1': 0}},\n",
       " 3: {'aliment_1': {'b4': 1, 'b3': 0, 'b2': 0, 'b1': 0},\n",
       "  'b4': {'aliment_1': 1, 'aliment_2': 0},\n",
       "  'b3': {'aliment_1': 1, 'aliment_2': 0},\n",
       "  'b2': {'aliment_1': 1, 'aliment_2': 1},\n",
       "  'b1': {'aliment_1': 1, 'aliment_2': 1},\n",
       "  'aliment_2': {'b4': 1, 'b3': 1, 'b2': 1, 'b1': 0}}}"
      ]
     },
     "execution_count": 88,
     "metadata": {},
     "output_type": "execute_result"
    }
   ],
   "source": [
    "aliments = {\"aliment_1\" : [19,20,20,20],\"aliment_2\" : [50,50,60,60]}\n",
    "profils = {  \"b1\" : [80,80,80,80], \"b2\" : [60,60,60,60],\"b3\" : [40,40,40,40],\"b4\" : [20,20,20,20] } \n",
    "c = get_indices_de_concordance_partiels(aliments, profiles)\n",
    "c"
   ]
  },
  {
   "cell_type": "markdown",
   "metadata": {
    "id": "P1e_PfTrIDea"
   },
   "source": [
    "## Step 2: Determination of global concordance index and credibility."
   ]
  },
  {
   "cell_type": "markdown",
   "metadata": {},
   "source": [
    "### get global concordance"
   ]
  },
  {
   "cell_type": "markdown",
   "metadata": {
    "id": "u_sHIUTKIRr9"
   },
   "source": [
    "The overall match index between the feed $H$ and the profile $b_i$ is given by the following formula:\n",
    "$\n",
    "C(a, b_i) = {\\sum_{j=1}^{m} w_jc_j(a,b_i)}\n",
    "$\n",
    "and\n",
    "$\n",
    "C(b_i, a) = {\\sum_{j=1}^{m} w_jc_j(b_i, a)}\n",
    "$\n",
    "\n",
    "where $k_j$ is the weight of criterion $j$ and $n$ the number of criteria"
   ]
  },
  {
   "cell_type": "code",
   "execution_count": 89,
   "metadata": {
    "id": "I37087pOILPE"
   },
   "outputs": [],
   "source": [
    "def get_indices_de_concordance_globaux(n : int, indices_de_concordance_partiels : dict, weights : list) :\n",
    "    \"\"\"Returns a dictionary containing for each food H and each criterion b_i\n",
    "     the global concordance indices c(H, bi) and c(bi, H), all real (float)\n",
    "\n",
    "     Parameters :\n",
    "        - n (list) : number of criteria\n",
    "        - partial_matching_indices (dict) : dictionaries containing the partial matching indices computed as illustrated in step 1\n",
    "        - weight (list) : lists of weights for each criteria (weight[j] = weight of criterion j)\n",
    "              Example : weight = [1, 1, 1, 1, 2, 2]\n",
    "    \"\"\"\n",
    "    C = {}\n",
    "    for H, b_i in itertools.product(*[aliments.keys(), profiles.keys()]) :\n",
    "        C[H] = C.get(H, {})\n",
    "        C[b_i] = C.get(b_i, {})\n",
    "        C[H][b_i] = sum([ weights[j] * indices_de_concordance_partiels[j][H][b_i] for j in range(n)])\n",
    "        C[b_i][H] = sum([ weights[j] * indices_de_concordance_partiels[j][b_i][H] for j in range(n)])\n",
    "    return C"
   ]
  },
  {
   "cell_type": "code",
   "execution_count": 90,
   "metadata": {
    "scrolled": true
   },
   "outputs": [
    {
     "data": {
      "text/plain": [
       "{'aliment_1': {'b4': 0.75, 'b3': 0.0, 'b2': 0.0, 'b1': 0.0},\n",
       " 'b4': {'aliment_1': 1.0, 'aliment_2': 0.0},\n",
       " 'b3': {'aliment_1': 1.0, 'aliment_2': 0.0},\n",
       " 'b2': {'aliment_1': 1.0, 'aliment_2': 1.0},\n",
       " 'b1': {'aliment_1': 1.0, 'aliment_2': 1.0},\n",
       " 'aliment_2': {'b4': 1.0, 'b3': 1.0, 'b2': 0.5, 'b1': 0.0}}"
      ]
     },
     "execution_count": 90,
     "metadata": {},
     "output_type": "execute_result"
    }
   ],
   "source": [
    "weights = [0.25, 0.25, 0.25, 0.25] \n",
    "con_dic = get_indices_de_concordance_globaux(4, c, weights)\n",
    "con_dic"
   ]
  },
  {
   "cell_type": "markdown",
   "metadata": {},
   "source": [
    "### non_discordance\n"
   ]
  },
  {
   "cell_type": "code",
   "execution_count": 91,
   "metadata": {},
   "outputs": [],
   "source": [
    "def get_nd_j(H : list, b_i : list, veto: int):\n",
    "    nd_j_H_b_i = 1\n",
    "    nd_j_b_i_H = 1\n",
    "    for j in range(len(H)):\n",
    "        if(H[j] - b_i[j] >= veto):\n",
    "            nd_j_H_b_i = 0\n",
    "        if(b_i[j] - H[j] >= veto):\n",
    "            nd_j_b_i_H = 0\n",
    "    return nd_j_H_b_i, nd_j_b_i_H"
   ]
  },
  {
   "cell_type": "code",
   "execution_count": 92,
   "metadata": {},
   "outputs": [
    {
     "data": {
      "text/plain": [
       "0"
      ]
     },
     "execution_count": 92,
     "metadata": {},
     "output_type": "execute_result"
    }
   ],
   "source": [
    "### testing\n",
    "\n",
    "nd_j_H_b_i, nd_j_b_i_H = get_nd_j([1,2,3,7],[2,2,2,2],5)\n",
    "\n",
    "nd_j_H_b_i"
   ]
  },
  {
   "cell_type": "code",
   "execution_count": 93,
   "metadata": {},
   "outputs": [
    {
     "data": {
      "text/plain": [
       "1"
      ]
     },
     "execution_count": 93,
     "metadata": {},
     "output_type": "execute_result"
    }
   ],
   "source": [
    "nd_j_b_i_H"
   ]
  },
  {
   "cell_type": "code",
   "execution_count": 94,
   "metadata": {},
   "outputs": [],
   "source": [
    "def non_discordance(aliments : dict, profiles : dict, veto: int):\n",
    "    \"\"\"Returns a dictionary containing for each alternative a and each criterion b_i\n",
    "     the non_discordance_index c(a, bi) and c(bi, a), all real (float)\"\"\"\n",
    "    criteria = len(profiles)\n",
    "    c = {}\n",
    "    for j in range(criteria) : # there are j criteria\n",
    "        c[j] = {} # initial each criteria as a dictionary\n",
    "        for H, b_i in itertools.product(*[aliments.keys(), profiles.keys()]) :\n",
    "            c[j][H] = c[j].get(H, {})\n",
    "            c[j][b_i] = c[j].get(b_i, {})\n",
    "            c[j][H][b_i], c[j][b_i][H] = get_nd_j(H = aliments[H], b_i = profiles[b_i], veto = veto)\n",
    "    return c\n",
    "    "
   ]
  },
  {
   "cell_type": "code",
   "execution_count": 95,
   "metadata": {},
   "outputs": [
    {
     "data": {
      "text/plain": [
       "{'aliment_1': {'b4': 1, 'b3': 1, 'b2': 1, 'b1': 1},\n",
       " 'b4': {'aliment_1': 1, 'aliment_2': 1},\n",
       " 'b3': {'aliment_1': 1, 'aliment_2': 1},\n",
       " 'b2': {'aliment_1': 1, 'aliment_2': 1},\n",
       " 'b1': {'aliment_1': 0, 'aliment_2': 1},\n",
       " 'aliment_2': {'b4': 1, 'b3': 1, 'b2': 1, 'b1': 1}}"
      ]
     },
     "execution_count": 95,
     "metadata": {},
     "output_type": "execute_result"
    }
   ],
   "source": [
    "#aliments = {\"aliment_1\" : [19,20,20,20],\"aliment_2\" : [30,50,60,60]}\n",
    "#profils = {  \"b1\" : [80,80,80,80], \"b2\" : [60,60,60,60],\"b3\" : [40,40,40,40],\"b4\" : [20,20,20,20] } \n",
    "veto = 60\n",
    "non_dis_dic = non_discordance(aliments, profiles, veto)\n",
    "non_dis_dic = non_dis_dic[len(non_dis_dic)-1]\n",
    "non_dis_dic"
   ]
  },
  {
   "cell_type": "markdown",
   "metadata": {},
   "source": [
    "### Crediability Calculation"
   ]
  },
  {
   "cell_type": "code",
   "execution_count": 96,
   "metadata": {},
   "outputs": [],
   "source": [
    "def get_crediability(con_dic: dict, non_dis_dic: dict):\n",
    "#     con_dic_example\n",
    "#     {'aliment_1': {'b4': 1.0, 'b3': 0.5, 'b2': 0.25, 'b1': 0.0},\n",
    "#    'b4': {'aliment_1': 0.25, 'aliment_2': 0.5},\n",
    "#    'b3': {'aliment_1': 0.75, 'aliment_2': 1.0},\n",
    "#    'b2': {'aliment_1': 1.0, 'aliment_2': 1.0},\n",
    "#    'b1': {'aliment_1': 1.0, 'aliment_2': 1.0},\n",
    "#    'aliment_2': {'b4': 0.75, 'b3': 0.0, 'b2': 0.0, 'b1': 0.0}}\n",
    "    cre = {}\n",
    "    for key in con_dic.keys():\n",
    "        for inner_key in con_dic[key]:\n",
    "            con_dic[key][inner_key] = non_dis_dic[key][inner_key] * con_dic[key][inner_key]\n",
    "\n",
    "    return con_dic"
   ]
  },
  {
   "cell_type": "code",
   "execution_count": 97,
   "metadata": {},
   "outputs": [],
   "source": [
    "crediability = get_crediability(con_dic,non_dis_dic)"
   ]
  },
  {
   "cell_type": "markdown",
   "metadata": {
    "id": "hwfBN_4GKgKE"
   },
   "source": [
    "## Step 3: Determining the S outranking relationship"
   ]
  },
  {
   "cell_type": "markdown",
   "metadata": {
    "id": "BCStmFs-K347"
   },
   "source": [
    "The outranking relationship is defined using the cutting index $\\lambda$, called the majority threshold (usually higher than 50%), which represents the parameter determining the preference situation between the food $H$ and the profile $b_i$. Thus for food $H$ and a profile $b_i$ :\n",
    "- $H$ outranks $b_i$ and we will note $H S b_i$ if and only if $C(H, b_i) \\geq \\lambda$.\n",
    "- $b_i$ overranks $H$ and we note $b_i S H$ if and only if $C(b_i, H) \\geq \\lambda$."
   ]
  },
  {
   "cell_type": "code",
   "execution_count": 98,
   "metadata": {
    "id": "tVzH9EaOyjAk"
   },
   "outputs": [],
   "source": [
    "def surclass(majority_threshold : float, H : str, b_i : str, crediability : dict):\n",
    "    \"\"\"outranking relation: returns H S b_i and b_i S H (which are all boolean: i.e. True or False)\n",
    "     Parameters :\n",
    "        - majority_threshold (float) : real between 0 and 1 (or 0% to 100%) representing the majority threshold\n",
    "        - H (str) : name of the food\n",
    "        - b_i (str) : name of the profile\n",
    "        - global_agreement_indices (dict) : dictionaries containing the global agreement indices calculated as illustrated in step 2\n",
    "    \"\"\"\n",
    "    H_S_b_i = crediability[H][b_i] >= majority_threshold\n",
    "    b_i_S_H = crediability[b_i][H] >= majority_threshold\n",
    "    return H_S_b_i, b_i_S_H"
   ]
  },
  {
   "cell_type": "code",
   "execution_count": 99,
   "metadata": {},
   "outputs": [
    {
     "data": {
      "text/plain": [
       "True"
      ]
     },
     "execution_count": 99,
     "metadata": {},
     "output_type": "execute_result"
    }
   ],
   "source": [
    "# Test\n",
    "H_S_b_k, _ = surclass(majority_threshold = 0.7, H= 'aliment_1', b_i='b4', crediability = crediability)\n",
    "H_S_b_k"
   ]
  },
  {
   "cell_type": "markdown",
   "metadata": {
    "id": "5xb57H3_NNe5"
   },
   "source": [
    "## Step 4: Assignment Procedures"
   ]
  },
  {
   "cell_type": "markdown",
   "metadata": {
    "id": "JYaPWdEXO4rl"
   },
   "source": [
    "Two procedures for assigning feed H are possible:\n",
    "\n",
    "- **Pessimistic procedure**: For each food $H$, decrease the profile indices by $r$ until the first index $k$ such that $H S b_k$. The food $H$ is then assigned to the category $C_k$.\n",
    "\n",
    "  If $H S b_k$ is never realized, then $H$ is assigned to the worst category, $C_1$ **(Olivier Sobri et al., page 5/24)** [1]\n",
    "- **Optimistic procedure**: for each feed $H$, increase the profile indices from $1$ to the first index $k$ such that $b_k S H$ and $non(H S b_k)$. The food $H$ is then assigned to the category $C_{k-1}$.\n",
    "\n",
    "  If $b_k S H$ and $non(H S b_k)$ is never realized, then $H$ is assigned to the best category, $C_r$ **(Olivier Sobri et al., page 5/24)** [1]\n",
    "\n",
    "[1] Integration of the decision support method ELECTRE TRI in an open source geographic information system : Olivier Sobrie, Marc Pirlot, Florent Joerin"
   ]
  },
  {
   "cell_type": "markdown",
   "metadata": {
    "id": "fCg_KOLRNi4v"
   },
   "source": [
    "### **Pessimistic procedure"
   ]
  },
  {
   "cell_type": "code",
   "execution_count": 100,
   "metadata": {
    "id": "aX5w8KM4QIrs"
   },
   "outputs": [],
   "source": [
    "def PessimisticmajoritySorting(aliments : dict, profils : dict, crediability : dict, majority_threshold : float) :\n",
    "    \"\"\" Classifies each food into a category according to the pessimistic assignment procedure\n",
    "      Parameters : \n",
    "          - categories (list) : list of categories \n",
    "              Example : categories= [\"A\", \"B\", \"C\", \"D\", \"E\"]\n",
    "          - aliments (dict) : dictionary containing the foods (the key corresponds to the name of the food, and the value to the \n",
    "                              qualitative evaluation attributed to the food for each criteria)\n",
    "                      Example : foods = {\"food1\" : [1, 2, 3, 1, 0.1, 10], 'food2': [2, 0, 1, 5, 1, 10]}\n",
    "          - crediability (dict) : dictionaries containing the global matching indices calculated as illustrated in step 2\n",
    "          - majority_threshold (float) : real between 0 and 1 (or 0% to 100%) representing the majority threshold\n",
    "    \"\"\"\n",
    "    result = {} # create an empty dic    \n",
    "    r = len(profils) # there are #r classes in total   r = 4\n",
    "    b = list(profils.keys()) # store keys of profiles in a list         b =  [\"b1\", \"b2\", \"b3\", \"b4\"]\n",
    "    print(crediability)\n",
    "    for H in aliments.keys() : # for each key in alternatives           H =  [\"aliment_1\", \"aliment_2\"]\n",
    "        for k in range(0, r, +1) : # loop r-1 times which is         K =  in range(3,-1,-1) = 3,2,1,0\n",
    "            H_S_b_k, _ = surclass(majority_threshold, H, b[k], crediability) # surclass(0.7,\"aliment_1\",b[3],crediability)\n",
    "            print(\"now start comparing\")\n",
    "            print(\"H is \" + str(H))\n",
    "            print(\"b[k] is \" + str(b[k]))\n",
    "            print(\"now comparing \" + str(crediability[H][b[k]]) + \" to \" + str(majority_threshold) )\n",
    "            if H_S_b_k :\n",
    "                print(  str(k) + \"here\")\n",
    "                result[H] = b[k]\n",
    "                break\n",
    " #       result[H] = result.get(H, categories[0]) \n",
    "    return result\n"
   ]
  },
  {
   "cell_type": "code",
   "execution_count": 102,
   "metadata": {},
   "outputs": [
    {
     "name": "stdout",
     "output_type": "stream",
     "text": [
      "{'aliment_1': [19, 20, 20, 20], 'aliment_2': [50, 50, 60, 60]}\n",
      "{'b1': [80, 80, 80, 80], 'b2': [60, 60, 60, 60], 'b3': [40, 40, 40, 40], 'b4': [20, 20, 20, 20]}\n",
      "{'aliment_1': {'b4': 0.75, 'b3': 0.0, 'b2': 0.0, 'b1': 0.0}, 'b4': {'aliment_1': 1.0, 'aliment_2': 0.0}, 'b3': {'aliment_1': 1.0, 'aliment_2': 0.0}, 'b2': {'aliment_1': 1.0, 'aliment_2': 1.0}, 'b1': {'aliment_1': 0.0, 'aliment_2': 1.0}, 'aliment_2': {'b4': 1.0, 'b3': 1.0, 'b2': 0.5, 'b1': 0.0}}\n",
      "now start comparing\n",
      "H is aliment_1\n",
      "b[k] is b1\n",
      "now comparing 0.0 to 0.7\n",
      "now start comparing\n",
      "H is aliment_1\n",
      "b[k] is b2\n",
      "now comparing 0.0 to 0.7\n",
      "now start comparing\n",
      "H is aliment_1\n",
      "b[k] is b3\n",
      "now comparing 0.0 to 0.7\n",
      "now start comparing\n",
      "H is aliment_1\n",
      "b[k] is b4\n",
      "now comparing 0.75 to 0.7\n",
      "3here\n",
      "now start comparing\n",
      "H is aliment_2\n",
      "b[k] is b1\n",
      "now comparing 0.0 to 0.7\n",
      "now start comparing\n",
      "H is aliment_2\n",
      "b[k] is b2\n",
      "now comparing 0.5 to 0.7\n",
      "now start comparing\n",
      "H is aliment_2\n",
      "b[k] is b3\n",
      "now comparing 1.0 to 0.7\n",
      "2here\n"
     ]
    },
    {
     "data": {
      "text/plain": [
       "{'aliment_1': 'b4', 'aliment_2': 'b3'}"
      ]
     },
     "execution_count": 102,
     "metadata": {},
     "output_type": "execute_result"
    }
   ],
   "source": [
    "majority_threshold = 0.7\n",
    "print(aliments)\n",
    "print(profils)\n",
    "result = PessimisticmajoritySorting(aliments= aliments, profils= profils, crediability = crediability, majority_threshold=majority_threshold)\n",
    "result"
   ]
  },
  {
   "cell_type": "markdown",
   "metadata": {
    "id": "NE2b-PRjRcsa"
   },
   "source": [
    "## **Function useful for reading and writing in excel files"
   ]
  },
  {
   "cell_type": "code",
   "execution_count": null,
   "metadata": {
    "id": "rUVc_u-yNHHS"
   },
   "outputs": [],
   "source": [
    "def get_profils(file_path : str, sheet_name : str = None):\n",
    "    \"\"\"Takes an excel file containing profiles or feeds and returns the results in the format :\n",
    "      - food = {\"food_1\": [1, 2, 3, 1, 0.1, 10], ..., 'food_n': [2, 0, 1, 5, 1, 10]} for example, if it is the food\n",
    "      - profiles = {\"b6\" : [100, 0, 0, 0, 100, 100], ..., \"b1\" : [10000, 100, 100, 100, 0, 0]} for example, if it is about profiles\n",
    "\n",
    "      Parameters:\n",
    "        - file_path (str) : path of the excel file\n",
    "        - sheet_name (str) name of the target excel sheet (if no sheet is specified, the first sheet is considered)\n",
    "    \"\"\"\n",
    "\n",
    "    if sheet_name is None :\n",
    "        content = pd.read_excel(file_path, index_col=0)\n",
    "    else :\n",
    "        content = pd.read_excel(file_path, index_col=0, sheet_name=sheet_name)\n",
    "    indexs = content.index\n",
    "    profils = {key : [] for key in indexs}\n",
    "    for critere in content.keys() :\n",
    "        C = content[critere]\n",
    "        for key in indexs :\n",
    "            profils[key].append(C[key])\n",
    "    return profils\n",
    "\n",
    "def get_criteres_poids(file_path : str, sheet_name : str = None):\n",
    "    \"\"\"Takes an excel file containing the criteria, their weight and their type (max or min) and returns the results in the format :\n",
    "      - criteria = [[\"Energy\", 'min'], [\"Sat. fatty acid\", 'min'], [\"Sugar\", 'min'], [\"Sodium\", 'min'], [\"Protein\", 'max'], [\"Fiber\", 'max']] for example\n",
    "      - weight = [1, 1, 1, 1, 2, 2] for example\n",
    "\n",
    "      Parameters :\n",
    "        - file_path (str) : path of the excel file\n",
    "        - sheet_name (str) name of the target excel sheet (if no sheet is specified, the first sheet is considered)\n",
    "    \"\"\"\n",
    "    \n",
    "    if sheet_name is None :\n",
    "        content = pd.read_excel(file_path, index_col=0)\n",
    "    else :\n",
    "        content = pd.read_excel(file_path, index_col=0, sheet_name=sheet_name)\n",
    "    #indexs = content.index\n",
    "    poids, criteres = [], []\n",
    "    for critere in content.keys() :\n",
    "        C = content[critere]\n",
    "        poids.append(C[\"poids\"])\n",
    "        criteres.append([critere, C[\"type_critere\"]])\n",
    "    return criteres, poids\n",
    "\n",
    "def to_excel(classement, output_file : str, sheet_name : str = None):\n",
    "    \"\"\"Function writing the results provided by the assignment procedures in the excel files\n",
    "\n",
    "      Parameters :\n",
    "        - classification (dict) : dictionary containing for each food (key = name of the food) its category (value)\n",
    "        - output_file (str) : path of the excel file in which the result will be stored\n",
    "        - sheet_name (str) name of the target excel sheet (if no sheet is specified, the first sheet is considered)\n",
    "    \"\"\"\n",
    "    index = classement.keys()\n",
    "    columns = [\"categories\"]\n",
    "    df = list(classement.values())\n",
    "    df = [[a] for a in df]\n",
    "    df = pd.DataFrame(df, index=index, columns = columns)\n",
    "    if sheet_name is None :\n",
    "        df.to_excel(output_file)\n",
    "    else :\n",
    "        df.to_excel(output_file, sheet_name = sheet_name)"
   ]
  },
  {
   "cell_type": "markdown",
   "metadata": {
    "id": "tQEe5ZVw0Lml"
   },
   "source": [
    "# **Testing functions by simulation on dummy data**."
   ]
  },
  {
   "cell_type": "code",
   "execution_count": null,
   "metadata": {
    "colab": {
     "base_uri": "https://localhost:8080/"
    },
    "id": "BhCCjHQjVdX1",
    "outputId": "a32070d9-5622-4486-8540-82bfa62cb824"
   },
   "outputs": [],
   "source": [
    "get_c_j(H = [2, 1, 1, 100, 1, 1], b_i = [2, 1, 1, 100, 1, 1], j = 5)"
   ]
  },
  {
   "cell_type": "code",
   "execution_count": null,
   "metadata": {
    "id": "1plWv9QLtVah"
   },
   "outputs": [],
   "source": [
    "categories = [\"A\", \"B\", \"C\", \"D\", \"E\"]\n",
    "criteres = [[\"Énergie\", 'min'], [\"Acide Gras sat.\", 'min'], [\"Sucre\", 'min'], [\"Sodium\", 'min'], [\"Protéine\", 'max'], [\"Fibre\", 'max']]\n",
    "poids = [1, 1, 1, 1, 2, 2] #weight\n",
    "profils = {\"b6\" : [100, 0, 0, 0, 100, 100], \"b5\" : [1550, 11, 0.8, 0.3, 10, 11], \"b4\" : [1650, 14, 1, 0.4, 7, 8], \"b3\" : [1750, 17, 1.7, 0.5, 4, 5], \"b2\" : [1850, 20, 4, 0.6, 3, 2.5], \"b1\" : [10000, 100, 100, 100, 0, 0]}\n",
    "aliments = {\"aliment_1\" : [1.5, 14, 3, 2, 0, 1], 'aliment_2': [0, 2, 1, 1, 10.11, 4]}\n",
    "seuil_de_majorite = 0.5 # majority_threshold"
   ]
  },
  {
   "cell_type": "markdown",
   "metadata": {
    "id": "Za2Kqm4H0nhM"
   },
   "source": [
    "## **Step 1: Determination of partial concordance indices"
   ]
  },
  {
   "cell_type": "code",
   "execution_count": null,
   "metadata": {
    "colab": {
     "base_uri": "https://localhost:8080/"
    },
    "id": "2oXa7F-LtmAI",
    "outputId": "7fe3a5cd-f300-44be-c3c6-7b720ff19eea"
   },
   "outputs": [],
   "source": [
    "c = get_indices_de_concordance_partiels(criteres = criteres, aliments = aliments, profils = profils)\n",
    "c"
   ]
  },
  {
   "cell_type": "markdown",
   "metadata": {
    "id": "BKkP7lak0vHS"
   },
   "source": [
    "## Step 2: Determination of global concordance indices"
   ]
  },
  {
   "cell_type": "code",
   "execution_count": null,
   "metadata": {
    "colab": {
     "base_uri": "https://localhost:8080/"
    },
    "id": "D61KTCLIuJkS",
    "outputId": "fba13ad1-6f35-4b30-ea03-e8ea60c9e6aa"
   },
   "outputs": [],
   "source": [
    "C =  get_indices_de_concordance_globaux(n = len(criteres), indices_de_concordance_partiels = c, proids = poids)\n",
    "C"
   ]
  },
  {
   "cell_type": "markdown",
   "metadata": {
    "id": "7aV8JNLA02N0"
   },
   "source": [
    "## Step 3 & 4: Upgrade Relationship & Assignment Procedures\n"
   ]
  },
  {
   "cell_type": "markdown",
   "metadata": {
    "id": "vBWpgqI41JHW"
   },
   "source": [
    "### **1) pessimistic**"
   ]
  },
  {
   "cell_type": "code",
   "execution_count": null,
   "metadata": {
    "colab": {
     "base_uri": "https://localhost:8080/"
    },
    "id": "wR1MIVYZuxpk",
    "outputId": "a34f1ac2-f5dc-4e79-bb4a-9948901f53e8"
   },
   "outputs": [],
   "source": [
    "categotiries_pessimist = PessimisticmajoritySorting(categories = categories, aliments = aliments, profils = profils, indices_de_concordance_globaux = C, seuil_de_majorite = seuil_de_majorite) \n",
    "categotiries_pessimist"
   ]
  },
  {
   "cell_type": "markdown",
   "metadata": {
    "id": "S1GneilZ1Rpg"
   },
   "source": [
    "### **1) optimiste**"
   ]
  },
  {
   "cell_type": "code",
   "execution_count": null,
   "metadata": {
    "colab": {
     "base_uri": "https://localhost:8080/"
    },
    "id": "YwnUDEVzu97U",
    "outputId": "00127b99-3c0e-4485-8a81-6c468393a6e7"
   },
   "outputs": [],
   "source": [
    "categotiries_optimist = OptimisticmajoritySorting(categories = categories, aliments = aliments, profils = profils, indices_de_concordance_globaux = C, seuil_de_majorite = seuil_de_majorite)\n",
    "categotiries_optimist"
   ]
  },
  {
   "cell_type": "markdown",
   "metadata": {
    "id": "Fs2SMimu0apo"
   },
   "source": [
    "# **Testing data from files\n",
    "\n",
    "**Repeatedly use these cells in order to progressively generate results**. \n",
    "\n",
    "That is : \n",
    "* specify the file paths\n",
    "* Run the cells until you get and write the results in the output file\n",
    "* Repeat for other file(s) "
   ]
  },
  {
   "cell_type": "markdown",
   "metadata": {
    "id": "tTOeZFh4SVyE"
   },
   "source": [
    "\n",
    "\n",
    "\n",
    "> NB: Specify the paths to your files and make sure that the files exist and respect the format required by the reading functions (templates are present in this [google drive folder](https://https://drive.google.com/drive/folders/1rvEylqVGC4AGGeJzFpxWlpNaI3H_uUXi?usp=sharing)).\n",
    "\n",
    "> If the file is badly encoded (with strange symbols in the names of foods for example), the reading will generate an error. \n",
    "\n",
    "> In my case I uploaded the files to google colab (See the icon on the top left, with an up arrow)\n",
    "\n",
    "\n",
    "\n",
    "> After executions I downloaded the files ``output_optimist.xlsx`` and ``output_pesimite.xlsx``.\n",
    "\n",
    "\n"
   ]
  },
  {
   "cell_type": "code",
   "execution_count": null,
   "metadata": {
    "id": "N445BjEtaAW6"
   },
   "outputs": [],
   "source": [
    "profils_file = \"./data/profils.xlsx\"\n",
    "criteres_file = \"./data/criteres.xlsx\"\n",
    "aliments_file = \"./data/aliments.xlsx\" # \"BD3_brut.xlsx\" pour la vrai BD\n",
    "output_file_pesimite =  \"./data/output_pesimite.xlsx\"\n",
    "output_file_optimiste =  \"./data/output_optimiste.xlsx\"\n",
    "seuil_de_majorite = 0.5"
   ]
  },
  {
   "cell_type": "code",
   "execution_count": null,
   "metadata": {
    "colab": {
     "base_uri": "https://localhost:8080/"
    },
    "id": "9x9yQLrXarQV",
    "outputId": "5a8fd2d5-9566-4d09-ee13-8d8bd4b637f2"
   },
   "outputs": [],
   "source": [
    "criteres, poids = get_criteres_poids(file_path = criteres_file)\n",
    "criteres, poids"
   ]
  },
  {
   "cell_type": "code",
   "execution_count": null,
   "metadata": {
    "colab": {
     "base_uri": "https://localhost:8080/"
    },
    "id": "OpNOUkAwa0hD",
    "outputId": "d8fa7942-fa29-4d2f-804c-79125012bb6c"
   },
   "outputs": [],
   "source": [
    "profils = get_profils(file_path = profils_file)\n",
    "profils"
   ]
  },
  {
   "cell_type": "code",
   "execution_count": null,
   "metadata": {
    "colab": {
     "base_uri": "https://localhost:8080/"
    },
    "id": "Dz04N1nxa6X-",
    "outputId": "b25e4a4d-d6b0-4f33-e223-1efe75e509f9"
   },
   "outputs": [],
   "source": [
    "aliments = get_profils(file_path = aliments_file)\n",
    "aliments"
   ]
  },
  {
   "cell_type": "markdown",
   "metadata": {
    "id": "bG2X6h87hbt2"
   },
   "source": [
    "### Optional: order the profiles and categories\n",
    "* make sure that we start from $b_6$ to $b_1$ for the profiles\n",
    "* make sure that we start from $A$ to $E$ for the categories"
   ]
  },
  {
   "cell_type": "code",
   "execution_count": null,
   "metadata": {
    "id": "_L7wv1ZlZ35G"
   },
   "outputs": [],
   "source": [
    "profils = {k : v for k, v in sorted(profils.items(), key=lambda b : b[0], reverse = True)} # se rassurer qu'on part de b6 à b1\n",
    "categories = sorted(categories, key = lambda c : c, reverse = False) # se rassurer qu'on part de A à E"
   ]
  },
  {
   "cell_type": "markdown",
   "metadata": {
    "id": "uYqwLdEgbInC"
   },
   "source": [
    "## Step 1: Determination of partial concordance indices"
   ]
  },
  {
   "cell_type": "code",
   "execution_count": null,
   "metadata": {
    "colab": {
     "base_uri": "https://localhost:8080/"
    },
    "id": "BL4gAP4BbGki",
    "outputId": "219c896d-ee09-4688-8d78-420195a6c949"
   },
   "outputs": [],
   "source": [
    "c = get_indices_de_concordance_partiels(criteres = criteres, aliments = aliments, profils = profils)\n",
    "c"
   ]
  },
  {
   "cell_type": "markdown",
   "metadata": {
    "id": "L3IQd6ESbZr-"
   },
   "source": [
    "## Step 2: Determination of global concordance indices"
   ]
  },
  {
   "cell_type": "code",
   "execution_count": null,
   "metadata": {
    "colab": {
     "base_uri": "https://localhost:8080/"
    },
    "id": "2LRA7zGqbPNX",
    "outputId": "55d84c94-23d1-4ec5-97cc-847efd7d1c84"
   },
   "outputs": [],
   "source": [
    "C =  get_indices_de_concordance_globaux(n = len(criteres), indices_de_concordance_partiels = c, proids = poids)\n",
    "C"
   ]
  },
  {
   "cell_type": "markdown",
   "metadata": {
    "id": "h_Z0imkWbf0Z"
   },
   "source": [
    "### Step 3 & 4: Upgrade Relationship & Assignment Procedures"
   ]
  },
  {
   "cell_type": "markdown",
   "metadata": {
    "id": "7lXBC9_GbjsM"
   },
   "source": [
    "### **1) pessimistic**"
   ]
  },
  {
   "cell_type": "code",
   "execution_count": null,
   "metadata": {
    "colab": {
     "base_uri": "https://localhost:8080/"
    },
    "id": "eB2lYeeYbnCw",
    "outputId": "9ca91a10-e1a3-4fa4-fbe8-e5cca88e54e4"
   },
   "outputs": [],
   "source": [
    "categotiries_pessimist = PessimisticmajoritySorting(categories = categories, aliments = aliments, profils = profils, indices_de_concordance_globaux = C, seuil_de_majorite = seuil_de_majorite) \n",
    "categotiries_pessimist"
   ]
  },
  {
   "cell_type": "markdown",
   "metadata": {
    "id": "x0CqjIY0XJx6"
   },
   "source": [
    "### **Write the result in the output file, on the sheet ``categotiries_pessimists``**"
   ]
  },
  {
   "cell_type": "code",
   "execution_count": null,
   "metadata": {
    "id": "PXGAedp5cQmt"
   },
   "outputs": [],
   "source": [
    "to_excel(categotiries_pessimist, output_file_pesimite, \"categotiries_pessimistes\")"
   ]
  },
  {
   "cell_type": "markdown",
   "metadata": {
    "id": "CTYfis2nb_3e"
   },
   "source": [
    "### **2) Optimistic**"
   ]
  },
  {
   "cell_type": "code",
   "execution_count": null,
   "metadata": {
    "id": "o1aVc5sEbe_K"
   },
   "outputs": [],
   "source": [
    "categotiries_optimist = OptimisticmajoritySorting(categories = categories, aliments = aliments, profils = profils, indices_de_concordance_globaux = C, seuil_de_majorite = seuil_de_majorite)"
   ]
  },
  {
   "cell_type": "code",
   "execution_count": null,
   "metadata": {
    "colab": {
     "base_uri": "https://localhost:8080/"
    },
    "id": "UmdLQ2KAwQJw",
    "outputId": "5c8e887e-b741-4b2c-e01a-000322f68f2d"
   },
   "outputs": [],
   "source": [
    "categotiries_optimist"
   ]
  },
  {
   "cell_type": "markdown",
   "metadata": {
    "id": "jSWBuwGzXfjV"
   },
   "source": [
    "### **Write the result in the output file, on the sheet ``categotiries_optimists``**"
   ]
  },
  {
   "cell_type": "code",
   "execution_count": null,
   "metadata": {
    "id": "TvJe-X1HcUwL"
   },
   "outputs": [],
   "source": [
    "to_excel(categotiries_optimist, output_file_optimiste, \"categotiries_optimistes\")"
   ]
  },
  {
   "cell_type": "code",
   "execution_count": null,
   "metadata": {},
   "outputs": [],
   "source": []
  }
 ],
 "metadata": {
  "colab": {
   "collapsed_sections": [],
   "include_colab_link": true,
   "name": "Electre_tri.ipynb",
   "provenance": [],
   "toc_visible": true
  },
  "kernelspec": {
   "display_name": "Python 3 (ipykernel)",
   "language": "python",
   "name": "python3"
  },
  "language_info": {
   "codemirror_mode": {
    "name": "ipython",
    "version": 3
   },
   "file_extension": ".py",
   "mimetype": "text/x-python",
   "name": "python",
   "nbconvert_exporter": "python",
   "pygments_lexer": "ipython3",
   "version": "3.9.7"
  }
 },
 "nbformat": 4,
 "nbformat_minor": 1
}
